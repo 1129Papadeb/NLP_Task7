{
 "cells": [
  {
   "cell_type": "code",
   "execution_count": 3,
   "id": "d1a72c90",
   "metadata": {},
   "outputs": [
    {
     "name": "stdout",
     "output_type": "stream",
     "text": [
      "Index(['UserName', 'ScreenName', 'Location', 'TweetAt', 'OriginalTweet',\n",
      "       'Sentiment'],\n",
      "      dtype='object')\n",
      "                                       OriginalTweet           Sentiment\n",
      "0  @MeNyrbie @Phil_Gahan @Chrisitv https://t.co/i...             Neutral\n",
      "1  advice Talk to your neighbours family to excha...            Positive\n",
      "2  Coronavirus Australia: Woolworths to give elde...            Positive\n",
      "3  My food stock is not the only one which is emp...            Positive\n",
      "4  Me, ready to go at supermarket during the #COV...  Extremely Negative\n"
     ]
    }
   ],
   "source": [
    "import pandas as pd\n",
    "\n",
    "# Load the dataset\n",
    "df = pd.read_csv(r\"D:\\NLP\\NLP_Task7\\Datasets\\Corona_NLP_train.csv\", encoding='latin1')\n",
    "print(df.columns)\n",
    "print(df[['OriginalTweet', 'Sentiment']].head())\n"
   ]
  },
  {
   "cell_type": "code",
   "execution_count": 4,
   "id": "af7c3728",
   "metadata": {},
   "outputs": [],
   "source": [
    "import re\n",
    "import string\n",
    "from nltk.corpus import stopwords\n",
    "from nltk.stem import WordNetLemmatizer\n",
    "\n",
    "stop_words = set(stopwords.words(\"english\"))\n",
    "lemmatizer = WordNetLemmatizer()\n",
    "\n",
    "def clean_text(text):\n",
    "    text = str(text).lower()\n",
    "    text = re.sub(r\"http\\S+|www.\\S+\", \"\", text)  # remove links\n",
    "    text = text.translate(str.maketrans('', '', string.punctuation))  # remove punctuation\n",
    "    text = re.sub(r\"\\d+\", \"\", text)  # remove numbers\n",
    "    words = text.split()\n",
    "    words = [lemmatizer.lemmatize(w) for w in words if w not in stop_words and len(w) > 1]\n",
    "    return \" \".join(words)\n",
    "\n",
    "df['clean_text'] = df['OriginalTweet'].apply(clean_text)\n"
   ]
  },
  {
   "cell_type": "code",
   "execution_count": 5,
   "id": "b7a2c178",
   "metadata": {},
   "outputs": [],
   "source": [
    "from sklearn.preprocessing import LabelEncoder\n",
    "\n",
    "le = LabelEncoder()\n",
    "df['label'] = le.fit_transform(df['Sentiment'])  # Converts 'Positive' → 2, etc.\n"
   ]
  }
 ],
 "metadata": {
  "kernelspec": {
   "display_name": "Python 3",
   "language": "python",
   "name": "python3"
  },
  "language_info": {
   "codemirror_mode": {
    "name": "ipython",
    "version": 3
   },
   "file_extension": ".py",
   "mimetype": "text/x-python",
   "name": "python",
   "nbconvert_exporter": "python",
   "pygments_lexer": "ipython3",
   "version": "3.11.1"
  }
 },
 "nbformat": 4,
 "nbformat_minor": 5
}

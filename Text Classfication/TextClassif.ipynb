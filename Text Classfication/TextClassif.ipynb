{
 "cells": [
  {
   "cell_type": "code",
   "execution_count": null,
   "id": "d1a72c90",
   "metadata": {},
   "outputs": [
    {
     "ename": "",
     "evalue": "",
     "output_type": "error",
     "traceback": [
      "\u001b[1;31mRunning cells with 'Python 3.10.9' requires the ipykernel package.\n",
      "\u001b[1;31m<a href='command:jupyter.createPythonEnvAndSelectController'>Create a Python Environment</a> with the required packages.\n",
      "\u001b[1;31mOr install 'ipykernel' using the command: 'c:/msys64/mingw64/bin/python.exe -m pip install ipykernel -U --user --force-reinstall'"
     ]
    }
   ],
   "source": [
    "import pandas as pd\n",
    "import torch\n",
    "from sklearn.model_selection import train_test_split\n",
    "from torch.utils.data import DataLoader, Dataset\n",
    "from torch.nn.utils.rnn import pad_sequence\n",
    "from collections import Counter\n",
    "\n",
    "# Load dataset\n",
    "df = pd.read_csv(r\"C:\\Users\\Tian\\Desktop\\NLP_Task7\\Datasets\\Corona_NLP_train.csv\", encoding='latin1')\n",
    "df = df[['OriginalTweet', 'Sentiment']].dropna()\n",
    "df = df[df['Sentiment'].isin(['Positive', 'Negative', 'Neutral'])] "
   ]
  },
  {
   "cell_type": "code",
   "execution_count": null,
   "id": "af7c3728",
   "metadata": {},
   "outputs": [],
   "source": [
    "# Encode labels\n",
    "label_map = {'Negative': 0, 'Neutral': 1, 'Positive': 2}\n",
    "df['label'] = df['Sentiment'].map(label_map)\n",
    "\n",
    "# Preprocess\n",
    "df['clean_text'] = df['OriginalTweet'].str.lower().str.replace(r\"[^\\w\\s]\", \"\", regex=True)\n",
    "tokenized_texts = df['clean_text'].str.split()\n",
    "word_counts = Counter(word for sentence in tokenized_texts for word in sentence)\n"
   ]
  },
  {
   "cell_type": "code",
   "execution_count": null,
   "id": "b7a2c178",
   "metadata": {},
   "outputs": [],
   "source": [
    "# Build vocab\n",
    "vocab = {word: i + 2 for i, word in enumerate(word_counts)}\n",
    "vocab['<PAD>'] = 0\n",
    "vocab['<UNK>'] = 1\n",
    "\n",
    "def text_to_seq(text):\n",
    "    return [vocab.get(word, vocab['<UNK>']) for word in text]\n",
    "\n",
    "# Convert to tensors\n",
    "X_seq = [torch.tensor(text_to_seq(sentence)) for sentence in tokenized_texts]\n",
    "y_seq = torch.tensor(df['label'].values)\n",
    "X_padded = pad_sequence(X_seq, batch_first=True, padding_value=vocab['<PAD>'])"
   ]
  },
  {
   "cell_type": "code",
   "execution_count": null,
   "id": "2926407b",
   "metadata": {},
   "outputs": [],
   "source": [
    "# Train/test split\n",
    "X_train, X_test, y_train, y_test = train_test_split(X_padded, y_seq, test_size=0.2, random_state=42)\n",
    "\n",
    "# Dataset wrapper\n",
    "class TextDataset(Dataset):\n",
    "    def __init__(self, X, y):\n",
    "        self.X, self.y = X, y\n",
    "    def __len__(self): return len(self.X)\n",
    "    def __getitem__(self, idx): return self.X[idx], self.y[idx]\n",
    "\n",
    "train_loader = DataLoader(TextDataset(X_train, y_train), batch_size=64, shuffle=True)\n",
    "test_loader = DataLoader(TextDataset(X_test, y_test), batch_size=64)"
   ]
  },
  {
   "cell_type": "code",
   "execution_count": null,
   "id": "419b5632",
   "metadata": {},
   "outputs": [],
   "source": [
    "import torch.nn as nn\n",
    "import torch.nn.functional as F\n",
    "\n",
    "class TextCNN(nn.Module):\n",
    "    def __init__(self, vocab_size, embed_dim, num_classes, kernel_sizes=[3, 4, 5], num_filters=100):\n",
    "        super(TextCNN, self).__init__()\n",
    "        self.embedding = nn.Embedding(vocab_size, embed_dim, padding_idx=vocab['<PAD>'])\n",
    "        self.convs = nn.ModuleList([\n",
    "            nn.Conv2d(1, num_filters, (k, embed_dim)) for k in kernel_sizes\n",
    "        ])\n",
    "        self.dropout = nn.Dropout(0.5)\n",
    "        self.fc = nn.Linear(num_filters * len(kernel_sizes), num_classes)\n",
    "\n",
    "    def forward(self, x):\n",
    "        x = self.embedding(x)  # (batch, seq_len, embed_dim)\n",
    "        x = x.unsqueeze(1)  # (batch, 1, seq_len, embed_dim)\n",
    "        x = [F.relu(conv(x)).squeeze(3) for conv in self.convs]  # [(batch, num_filters, seq_len - k + 1), ...]\n",
    "        x = [F.max_pool1d(c, c.size(2)).squeeze(2) for c in x]  # [(batch, num_filters), ...]\n",
    "        x = torch.cat(x, dim=1)  # (batch, num_filters * len(kernel_sizes))\n",
    "        x = self.dropout(x)\n",
    "        return self.fc(x)"
   ]
  },
  {
   "cell_type": "code",
   "execution_count": null,
   "id": "20ff586d",
   "metadata": {},
   "outputs": [],
   "source": [
    "device = torch.device('cuda' if torch.cuda.is_available() else 'cpu')\n",
    "\n",
    "model = TextCNN(vocab_size=len(vocab), embed_dim=100, num_classes=3).to(device)\n",
    "optimizer = torch.optim.Adam(model.parameters(), lr=0.001)\n",
    "criterion = nn.CrossEntropyLoss()\n",
    "\n",
    "epochs = 5\n",
    "model.train()\n",
    "\n",
    "for epoch in range(epochs):\n",
    "    total_loss, correct, total = 0, 0, 0\n",
    "    for batch_x, batch_y in train_loader:\n",
    "        batch_x, batch_y = batch_x.to(device), batch_y.to(device)\n",
    "        optimizer.zero_grad()\n",
    "        outputs = model(batch_x)\n",
    "        loss = criterion(outputs, batch_y)\n",
    "        loss.backward()\n",
    "        optimizer.step()\n",
    "\n",
    "        total_loss += loss.item()\n",
    "        predictions = outputs.argmax(dim=1)\n",
    "        correct += (predictions == batch_y).sum().item()\n",
    "        total += batch_y.size(0)\n",
    "\n",
    "    print(f\"Epoch {epoch+1}/{epochs}, Loss: {total_loss:.4f}, Accuracy: {correct/total:.4f}\")"
   ]
  },
  {
   "cell_type": "code",
   "execution_count": null,
   "id": "792c02f6",
   "metadata": {},
   "outputs": [],
   "source": [
    "model.eval()\n",
    "correct, total = 0, 0\n",
    "\n",
    "with torch.no_grad():\n",
    "    for batch_x, batch_y in test_loader:\n",
    "        batch_x, batch_y = batch_x.to(device), batch_y.to(device)\n",
    "        outputs = model(batch_x)\n",
    "        predictions = outputs.argmax(dim=1)\n",
    "        correct += (predictions == batch_y).sum().item()\n",
    "        total += batch_y.size(0)\n",
    "\n",
    "print(f\"Test Accuracy: {correct / total:.4f}\")"
   ]
  }
 ],
 "metadata": {
  "kernelspec": {
   "display_name": "Python 3",
   "language": "python",
   "name": "python3"
  },
  "language_info": {
   "codemirror_mode": {
    "name": "ipython",
    "version": 3
   },
   "file_extension": ".py",
   "mimetype": "text/x-python",
   "name": "python",
   "nbconvert_exporter": "python",
   "pygments_lexer": "ipython3",
   "version": "3.13.2"
  }
 },
 "nbformat": 4,
 "nbformat_minor": 5
}
